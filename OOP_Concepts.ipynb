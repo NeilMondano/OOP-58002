{
  "nbformat": 4,
  "nbformat_minor": 0,
  "metadata": {
    "colab": {
      "provenance": [],
      "authorship_tag": "ABX9TyPFDs2ecqoszTaX1xasrAht",
      "include_colab_link": true
    },
    "kernelspec": {
      "name": "python3",
      "display_name": "Python 3"
    },
    "language_info": {
      "name": "python"
    }
  },
  "cells": [
    {
      "cell_type": "markdown",
      "metadata": {
        "id": "view-in-github",
        "colab_type": "text"
      },
      "source": [
        "<a href=\"https://colab.research.google.com/github/NeilMondano/OOP-58002/blob/main/OOP_Concepts.ipynb\" target=\"_parent\"><img src=\"https://colab.research.google.com/assets/colab-badge.svg\" alt=\"Open In Colab\"/></a>"
      ]
    },
    {
      "cell_type": "code",
      "execution_count": 46,
      "metadata": {
        "colab": {
          "base_uri": "https://localhost:8080/"
        },
        "id": "vayQ6-r5xRcF",
        "outputId": "2eb458d5-b181-4741-ce81-ddc5611fbf09"
      },
      "outputs": [
        {
          "output_type": "stream",
          "name": "stdout",
          "text": [
            "4\n"
          ]
        }
      ],
      "source": [
        "#Creation of Class  \n",
        "\n",
        "class myClass:     #name of class\n",
        "  y = 4            #property name\n",
        "\n",
        "p1 = myClass()     #create an object named p1\n",
        "print(p1.y)        #print the value of y"
      ]
    },
    {
      "cell_type": "code",
      "source": [
        "class myClass:\n",
        "  pass"
      ],
      "metadata": {
        "id": "BTqJhLLex_Qu"
      },
      "execution_count": 47,
      "outputs": []
    },
    {
      "cell_type": "code",
      "source": [
        "#Creation of Methods\n",
        "\n",
        "class Persons:\n",
        "  def __init__(self,name):\n",
        "    self.name = name\n",
        "    self.age = age\n",
        "    \n",
        "  def myfunction(self):\n",
        "    print(\"Hello, my name is \",self.name)\n",
        "\n",
        "teacher = Persons(\"Neil\")\n",
        "teacher.myfunction()"
      ],
      "metadata": {
        "id": "NCd734luyEaR"
      },
      "execution_count": null,
      "outputs": []
    },
    {
      "cell_type": "code",
      "source": [
        "#Modification of Object Properties\n",
        "\n",
        "teacher.name = \"Neil\"\n",
        "teacher.myfunction()"
      ],
      "metadata": {
        "id": "92VlMt130DaI"
      },
      "execution_count": null,
      "outputs": []
    },
    {
      "cell_type": "code",
      "source": [
        "#Deletion of Object Properties\n",
        "\n",
        "print(teacher.name)"
      ],
      "metadata": {
        "colab": {
          "base_uri": "https://localhost:8080/"
        },
        "id": "9A9YgdPb0VdR",
        "outputId": "3d9e92dc-ff63-4487-d9c7-e95683fb00a8"
      },
      "execution_count": 38,
      "outputs": [
        {
          "output_type": "stream",
          "name": "stdout",
          "text": [
            "Neil\n"
          ]
        }
      ]
    },
    {
      "cell_type": "code",
      "source": [
        "#With rectangles\n",
        "class Shapes:\n",
        "    def __init__(self, side1, side2=None):\n",
        "        self.side1 = side1\n",
        "        self.side2 = side2\n",
        "\n",
        "    def area(self):\n",
        "        if self.side2 is None:  # Square\n",
        "            return self.side1 ** 2\n",
        "        else:  # Rectangle\n",
        "            return self.side1 * self.side2\n",
        "\n",
        "    def display(self):\n",
        "        if self.side2 is None:\n",
        "            print(\"The area of the square is\", self.area())\n",
        "        else:\n",
        "            print(\"The area of the rectangle is\", self.area())\n",
        "\n",
        "\n",
        "square = Shapes(5)\n",
        "rectangle = Shapes(5,10)\n",
        "\n",
        "square.display()  \n",
        "rectangle.display()"
      ],
      "metadata": {
        "colab": {
          "base_uri": "https://localhost:8080/"
        },
        "id": "Gg0_nHTw8yMP",
        "outputId": "f33ea080-36a0-4b50-d65f-569a576cd53c"
      },
      "execution_count": 52,
      "outputs": [
        {
          "output_type": "stream",
          "name": "stdout",
          "text": [
            "The area of the square is 25\n",
            "The area of the rectangle is 50\n"
          ]
        }
      ]
    },
    {
      "cell_type": "code",
      "source": [
        "#Using inheritance\n",
        "class Shape:\n",
        "    def __init__(self, *sides):\n",
        "        self.sides = sides\n",
        "\n",
        "    def area(self):\n",
        "        pass  # To be implemented by subclasses\n",
        "\n",
        "    def display(self):\n",
        "        pass  # To be implemented by subclasses\n",
        "\n",
        "\n",
        "class Square(Shape):\n",
        "    def __init__(self, side):\n",
        "        super().__init__(side)\n",
        "\n",
        "    def area(self):\n",
        "        return self.sides[0] ** 2\n",
        "\n",
        "    def display(self):\n",
        "        print(\"The area of the square is\", self.area())\n",
        "\n",
        "\n",
        "class Rectangle(Shape):\n",
        "    def __init__(self, length, width):\n",
        "        super().__init__(length, width)\n",
        "\n",
        "    def area(self):\n",
        "        return self.sides[0] * self.sides[1]\n",
        "\n",
        "    def display(self):\n",
        "        print(\"The area of the rectangle is\", self.area())\n",
        "\n",
        "\n",
        "square = Square(5)\n",
        "rectangle = Rectangle(5, 10)\n",
        "\n",
        "square.display()  # Output: The area of the square is 25\n",
        "rectangle.display()  # Output: The area of the rectangle is 50\n"
      ],
      "metadata": {
        "colab": {
          "base_uri": "https://localhost:8080/"
        },
        "id": "_NArxM6h91Yl",
        "outputId": "02e1c814-7462-4ba2-b394-be11020ce16f"
      },
      "execution_count": 53,
      "outputs": [
        {
          "output_type": "stream",
          "name": "stdout",
          "text": [
            "The area of the square is 25\n",
            "The area of the rectangle is 50\n"
          ]
        }
      ]
    },
    {
      "cell_type": "code",
      "source": [
        "#Activty / Tuesday - 3-7-23 / OOP\n",
        "\n",
        "class Person:\n",
        "    def __init__(self, name, age, school):\n",
        "        self.name = name\n",
        "        self.age = age\n",
        "        self.school = school\n",
        "\n",
        "    def identity(self):\n",
        "        print(\"Full name:\", self.name)\n",
        "        print(\"Age:\", self.age)\n",
        "        print(\"School:\", self.school)\n",
        "\n",
        "\n",
        "person = Person(\"MONDANO, Neil Benoit L.\", 18, \"Adamson University\")\n",
        "person.identity()"
      ],
      "metadata": {
        "colab": {
          "base_uri": "https://localhost:8080/"
        },
        "id": "AcinoSxVA-6K",
        "outputId": "27ee2d3e-5573-4065-cbef-476cf9b45153"
      },
      "execution_count": 55,
      "outputs": [
        {
          "output_type": "stream",
          "name": "stdout",
          "text": [
            "Full name: MONDANO, Neil Benoit L.\n",
            "Age: 18\n",
            "School: Adamson University\n"
          ]
        }
      ]
    }
  ]
}