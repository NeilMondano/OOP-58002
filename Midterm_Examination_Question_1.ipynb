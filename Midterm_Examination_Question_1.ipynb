{
  "nbformat": 4,
  "nbformat_minor": 0,
  "metadata": {
    "colab": {
      "provenance": [],
      "authorship_tag": "ABX9TyPwkHoff4p4KtEC+6rV01Qb",
      "include_colab_link": true
    },
    "kernelspec": {
      "name": "python3",
      "display_name": "Python 3"
    },
    "language_info": {
      "name": "python"
    }
  },
  "cells": [
    {
      "cell_type": "markdown",
      "metadata": {
        "id": "view-in-github",
        "colab_type": "text"
      },
      "source": [
        "<a href=\"https://colab.research.google.com/github/NeilMondano/OOP-58002/blob/main/Midterm_Examination_Question_1.ipynb\" target=\"_parent\"><img src=\"https://colab.research.google.com/assets/colab-badge.svg\" alt=\"Open In Colab\"/></a>"
      ]
    },
    {
      "cell_type": "code",
      "execution_count": 6,
      "metadata": {
        "colab": {
          "base_uri": "https://localhost:8080/"
        },
        "id": "IABDg1FsSZL7",
        "outputId": "7c31bb55-3660-4e49-ff46-09f42b720186"
      },
      "outputs": [
        {
          "output_type": "stream",
          "name": "stdout",
          "text": [
            "Enter the radius of the circle is: 54\n",
            "Area of the circle is:  9162.072\n",
            "Perimieter of the circle is:  339.12\n"
          ]
        }
      ],
      "source": [
        "class Circle():\n",
        "\n",
        "  def radius(self,radius):\n",
        "    rad = radius\n",
        "  \n",
        "  def area(self,rad):\n",
        "    area = 3.142*rad*rad\n",
        "    print(\"Area of the circle is: \", area)\n",
        "\n",
        "  def peri(seld,rad):\n",
        "    peri = 2*3.14*rad\n",
        "    print(\"Perimieter of the circle is: \", peri)\n",
        "  \n",
        "c = Circle()\n",
        "radius = int(input(\"Enter the radius of the circle is: \"))\n",
        "c.area(radius)\n",
        "c.peri(radius)\n"
      ]
    }
  ]
}