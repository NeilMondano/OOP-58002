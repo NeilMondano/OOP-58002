{
  "nbformat": 4,
  "nbformat_minor": 0,
  "metadata": {
    "colab": {
      "provenance": [],
      "authorship_tag": "ABX9TyOYOpWDllAAsXPU/P7XleGG",
      "include_colab_link": true
    },
    "kernelspec": {
      "name": "python3",
      "display_name": "Python 3"
    },
    "language_info": {
      "name": "python"
    }
  },
  "cells": [
    {
      "cell_type": "markdown",
      "metadata": {
        "id": "view-in-github",
        "colab_type": "text"
      },
      "source": [
        "<a href=\"https://colab.research.google.com/github/NeilMondano/OOP-58002/blob/main/Hands_On_Activity_1.ipynb\" target=\"_parent\"><img src=\"https://colab.research.google.com/assets/colab-badge.svg\" alt=\"Open In Colab\"/></a>"
      ]
    },
    {
      "cell_type": "markdown",
      "source": [
        "Hands on No.1"
      ],
      "metadata": {
        "id": "2q9Ce3pj-Hw_"
      }
    },
    {
      "cell_type": "code",
      "source": [
        "class Person:\n",
        "  def __init__(self,pre,mid,fin):\n",
        "    self.__pre = pre\n",
        "    self.__mid = mid\n",
        "    self.__fin = fin\n",
        "  def Grade(self):\n",
        "    return (self.__pre + self.__mid + self.__fin)/3\n",
        "\n",
        "class Student1(Person):\n",
        "  pass\n",
        "class Student2(Person):\n",
        "  pass\n",
        "class Student3(Person):\n",
        "  pass\n",
        "\n",
        "std1 = Student1(90,95,99)\n",
        "std2 = Student2(70,72,73)\n",
        "std3 = Student3(70,75,80)\n",
        "\n",
        "print(\"The semestral grade of Student 1 is:\", std1.Grade())\n",
        "print(\"The semestral grade of Student 2 is:\", std2.Grade())\n",
        "print(\"The semestral grade of Student 3 is:\", std3.Grade())"
      ],
      "metadata": {
        "id": "wYNRLm7jKkBi",
        "colab": {
          "base_uri": "https://localhost:8080/"
        },
        "outputId": "3c3a8378-ccde-4d18-b158-2d28a9d78a97"
      },
      "execution_count": 89,
      "outputs": [
        {
          "output_type": "stream",
          "name": "stdout",
          "text": [
            "The semestral grade of Student 1 is: 94.66666666666667\n",
            "The semestral grade of Student 2 is: 71.66666666666667\n",
            "The semestral grade of Student 3 is: 75.0\n"
          ]
        }
      ]
    }
  ]
}