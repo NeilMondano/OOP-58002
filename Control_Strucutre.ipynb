{
  "nbformat": 4,
  "nbformat_minor": 0,
  "metadata": {
    "colab": {
      "provenance": [],
      "authorship_tag": "ABX9TyM5pd48ApmfmzGfYZEadsuH",
      "include_colab_link": true
    },
    "kernelspec": {
      "name": "python3",
      "display_name": "Python 3"
    },
    "language_info": {
      "name": "python"
    }
  },
  "cells": [
    {
      "cell_type": "markdown",
      "metadata": {
        "id": "view-in-github",
        "colab_type": "text"
      },
      "source": [
        "<a href=\"https://colab.research.google.com/github/NeilMondano/OOP-58002/blob/main/Control_Strucutre.ipynb\" target=\"_parent\"><img src=\"https://colab.research.google.com/assets/colab-badge.svg\" alt=\"Open In Colab\"/></a>"
      ]
    },
    {
      "cell_type": "code",
      "execution_count": 41,
      "metadata": {
        "id": "CurWMKRxjI2t"
      },
      "outputs": [],
      "source": [
        "#If Statement\n",
        "a = 100\n",
        "b = 100\n",
        "\n",
        "if a>b:\n",
        "  print(\"a is greater than b\")"
      ]
    },
    {
      "cell_type": "code",
      "source": [
        "#Elif Statement\n",
        "\n",
        "if a>b:\n",
        "  print(\"a is greater than b\")\n",
        "elif a<b:\n",
        "  print(\"a is less than b\")"
      ],
      "metadata": {
        "colab": {
          "base_uri": "https://localhost:8080/"
        },
        "id": "nXmPZGYPlQFq",
        "outputId": "f79a546b-3d24-435e-c1aa-852d4293de5a"
      },
      "execution_count": 13,
      "outputs": [
        {
          "output_type": "stream",
          "name": "stdout",
          "text": [
            "a is greater than b\n"
          ]
        }
      ]
    },
    {
      "cell_type": "code",
      "source": [
        "#Else Statement\n",
        "if a>b:\n",
        "  print(\"a is greater than b\")\n",
        "else:\n",
        "  print(\"a is less than b\")"
      ],
      "metadata": {
        "colab": {
          "base_uri": "https://localhost:8080/"
        },
        "id": "GDG-9miDl0Lq",
        "outputId": "730fecd0-b9c5-4501-ad6e-2e0e0b3b8fd9"
      },
      "execution_count": 14,
      "outputs": [
        {
          "output_type": "stream",
          "name": "stdout",
          "text": [
            "a is greater than b\n"
          ]
        }
      ]
    },
    {
      "cell_type": "markdown",
      "source": [
        "Short Hand If"
      ],
      "metadata": {
        "id": "dzpDP7mlmO1B"
      }
    },
    {
      "cell_type": "code",
      "source": [
        "if a==b: print(\"a is equal to b\")"
      ],
      "metadata": {
        "colab": {
          "base_uri": "https://localhost:8080/"
        },
        "id": "XUThs9P9mRBa",
        "outputId": "e0e3c952-b61d-4f45-cf81-7872e5bea4a3"
      },
      "execution_count": 17,
      "outputs": [
        {
          "output_type": "stream",
          "name": "stdout",
          "text": [
            "a is equal to b\n"
          ]
        }
      ]
    },
    {
      "cell_type": "markdown",
      "source": [
        "Short Hand If Else"
      ],
      "metadata": {
        "id": "NWO-x3oMmhcJ"
      }
    },
    {
      "cell_type": "code",
      "source": [
        "print(\"a is greater than b\") if a>b else print(\"a is less than b\")"
      ],
      "metadata": {
        "colab": {
          "base_uri": "https://localhost:8080/"
        },
        "id": "IqN5HiZWmkKS",
        "outputId": "5b99ead8-1381-4b54-a0d2-d6f30bd74ea6"
      },
      "execution_count": 18,
      "outputs": [
        {
          "output_type": "stream",
          "name": "stdout",
          "text": [
            "a is less than b\n"
          ]
        }
      ]
    },
    {
      "cell_type": "markdown",
      "source": [
        "And Condition"
      ],
      "metadata": {
        "id": "NGMfAyQ9nGE6"
      }
    },
    {
      "cell_type": "code",
      "source": [
        "s = 75\n",
        "t = 70 \n",
        "\n",
        "if s>t and t<s:\n",
        "  print(\"s > t and t < s\")\n"
      ],
      "metadata": {
        "colab": {
          "base_uri": "https://localhost:8080/"
        },
        "id": "1tf-wRahnTrR",
        "outputId": "7953a26c-db86-4eaa-869f-4470c9acc61d"
      },
      "execution_count": 30,
      "outputs": [
        {
          "output_type": "stream",
          "name": "stdout",
          "text": [
            "s > t and t < s\n"
          ]
        }
      ]
    },
    {
      "cell_type": "markdown",
      "source": [
        "Or Condition"
      ],
      "metadata": {
        "id": "tyhFMHz-n-nJ"
      }
    },
    {
      "cell_type": "code",
      "source": [
        "print(\"s > t and  t < s\")"
      ],
      "metadata": {
        "colab": {
          "base_uri": "https://localhost:8080/"
        },
        "id": "Ivrr8sBroC9I",
        "outputId": "7a09f029-b0a3-478e-c2fe-168e5f46726e"
      },
      "execution_count": 31,
      "outputs": [
        {
          "output_type": "stream",
          "name": "stdout",
          "text": [
            "s > t and  t < s\n"
          ]
        }
      ]
    },
    {
      "cell_type": "markdown",
      "source": [
        "Nested If"
      ],
      "metadata": {
        "id": "Lv5srHzko0Eg"
      }
    },
    {
      "cell_type": "code",
      "source": [
        "x = 41\n",
        "\n",
        "if x > 10:\n",
        "    print(\"above 10\")\n",
        "else:\n",
        "    print(\"below 10\")\n",
        "\n",
        "if x > 20:\n",
        "    print(\"above 20\")\n",
        "else:\n",
        "    print(\"below 20\")\n",
        "\n",
        "if x > 30:\n",
        "    print(\"above 30\")\n",
        "else:\n",
        "    print(\"below 30\")\n",
        "\n",
        "if x > 40:\n",
        "    print(\"above 40\")\n",
        "else:\n",
        "    print(\"below 40\")\n",
        "\n",
        "if x > 50:\n",
        "    print(\"above 50\")\n",
        "else:\n",
        "    print(\"below 50\")\n"
      ],
      "metadata": {
        "colab": {
          "base_uri": "https://localhost:8080/"
        },
        "id": "tpul4yNuo2GY",
        "outputId": "9d702921-4020-49ff-9217-1e6b994b9760"
      },
      "execution_count": 67,
      "outputs": [
        {
          "output_type": "stream",
          "name": "stdout",
          "text": [
            "above 10\n",
            "above 20\n",
            "above 30\n",
            "above 40\n",
            "below 50\n"
          ]
        }
      ]
    },
    {
      "cell_type": "markdown",
      "source": [
        "Example 1"
      ],
      "metadata": {
        "id": "rz59DwXStqaU"
      }
    },
    {
      "cell_type": "code",
      "source": [
        "print(\"Write a program that determines if the inputed age is qialified to vote or not. The qualifying age is 18 years old above.\")\n",
        "print(\" \")\n",
        "print(\"Enter your age: \")\n",
        "age = int(input())\n",
        "if age > 18:\n",
        "  print(\"You're age is qualified to vote!\")\n",
        "else:\n",
        "  print(\"You're age is not qualified to vote!\")"
      ],
      "metadata": {
        "colab": {
          "base_uri": "https://localhost:8080/"
        },
        "id": "F9O2avwVtre7",
        "outputId": "5e4a9510-be21-4f02-f828-2b1b8b677756"
      },
      "execution_count": 69,
      "outputs": [
        {
          "output_type": "stream",
          "name": "stdout",
          "text": [
            "Write a program that determines if the inputed age is qialified to vote or not. The qualifying age is 18 years old above.\n",
            " \n",
            "Enter your age: \n",
            "12\n",
            "You're age is not qualified to vote!\n"
          ]
        }
      ]
    },
    {
      "cell_type": "markdown",
      "source": [
        "Example 2"
      ],
      "metadata": {
        "id": "OMElv2Enx1_M"
      }
    },
    {
      "cell_type": "code",
      "source": [
        "print(\"Write a program that determines if the input number is Positive (+), Negative(-), or Zero (0)\")\n",
        "print(\" \")\n",
        "print(\"Enter your number: \")\n",
        "numb = int(input())\n",
        "if numb >0:\n",
        "  print(\"The number is Positive\")\n",
        "elif numb == 0:\n",
        "  print(\"The number is Zero\")\n",
        "else:\n",
        "  print(\"The number is Negative\")\n"
      ],
      "metadata": {
        "colab": {
          "base_uri": "https://localhost:8080/"
        },
        "id": "Aub1llpyx3NN",
        "outputId": "8a559665-6f4f-4412-a01c-a959f419dc6c"
      },
      "execution_count": 73,
      "outputs": [
        {
          "output_type": "stream",
          "name": "stdout",
          "text": [
            "Write a program that determines if the input number is Positive (+), Negative(-), or Zero (0)\n",
            " \n",
            "Enter your number: \n",
            "-9\n",
            "The number is Negative\n"
          ]
        }
      ]
    },
    {
      "cell_type": "markdown",
      "source": [
        "Example 3"
      ],
      "metadata": {
        "id": "8rykE6aGyzjS"
      }
    },
    {
      "cell_type": "code",
      "source": [
        "print(\"Write a program to determine if the grades are: If: grade > = 75, Passed grade = 74, Remedial grade < 74\") \n",
        "print(\" \")\n",
        "print(\"Enter your grade: \")\n",
        "grade = int(input())\n",
        "if grade >= 75:\n",
        "  print(\"You have passed!\")\n",
        "elif grade == 74:\n",
        "  print(\"You need to take a remedial!\")\n",
        "else:\n",
        "  print(\"You failed!\")"
      ],
      "metadata": {
        "colab": {
          "base_uri": "https://localhost:8080/"
        },
        "id": "qQMAAu3wy03C",
        "outputId": "0133de31-4410-4d51-ce4c-b94756a7391f"
      },
      "execution_count": 77,
      "outputs": [
        {
          "output_type": "stream",
          "name": "stdout",
          "text": [
            "Write a program to determine if the grades are: If: grade > = 75, Passed grade = 74, Remedial grade < 74\n",
            " \n",
            "Enter your grade: \n",
            "90\n",
            "You have passed!\n"
          ]
        }
      ]
    }
  ]
}