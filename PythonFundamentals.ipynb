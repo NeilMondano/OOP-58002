{
  "nbformat": 4,
  "nbformat_minor": 0,
  "metadata": {
    "colab": {
      "provenance": [],
      "authorship_tag": "ABX9TyMnDzYjxuKIURLe/MoTH1jI",
      "include_colab_link": true
    },
    "kernelspec": {
      "name": "python3",
      "display_name": "Python 3"
    },
    "language_info": {
      "name": "python"
    }
  },
  "cells": [
    {
      "cell_type": "markdown",
      "metadata": {
        "id": "view-in-github",
        "colab_type": "text"
      },
      "source": [
        "<a href=\"https://colab.research.google.com/github/NeilMondano/OOP-58002/blob/main/PythonFundamentals.ipynb\" target=\"_parent\"><img src=\"https://colab.research.google.com/assets/colab-badge.svg\" alt=\"Open In Colab\"/></a>"
      ]
    },
    {
      "cell_type": "markdown",
      "source": [
        "Python Indentation"
      ],
      "metadata": {
        "id": "4aYKm276xI6X"
      }
    },
    {
      "cell_type": "code",
      "source": [
        "if 5>2:\n",
        " print(5>2)"
      ],
      "metadata": {
        "colab": {
          "base_uri": "https://localhost:8080/"
        },
        "id": "sCuWg7XgxSmY",
        "outputId": "0ade5cb4-a4a3-40e5-8c4e-4cf72baacb25"
      },
      "execution_count": null,
      "outputs": [
        {
          "output_type": "stream",
          "name": "stdout",
          "text": [
            "True\n"
          ]
        }
      ]
    },
    {
      "cell_type": "markdown",
      "source": [
        "Python Comment"
      ],
      "metadata": {
        "id": "mJ4lVtsjx6Xn"
      }
    },
    {
      "cell_type": "code",
      "source": [
        "#This is a comment\n",
        "print(\"Hello World\")"
      ],
      "metadata": {
        "colab": {
          "base_uri": "https://localhost:8080/"
        },
        "id": "HLAgiBV4x-tm",
        "outputId": "df368bf4-2030-4aa3-eeaa-5a2ee58cd73d"
      },
      "execution_count": null,
      "outputs": [
        {
          "output_type": "stream",
          "name": "stdout",
          "text": [
            "Hello World\n"
          ]
        }
      ]
    },
    {
      "cell_type": "markdown",
      "source": [
        "Naming Variable"
      ],
      "metadata": {
        "id": "T61bmG5fyTGe"
      }
    },
    {
      "cell_type": "code",
      "source": [
        "#Single Variable\n",
        "\n",
        "X = 1\n",
        "Y = 2\n",
        "\n",
        "print(X)\n",
        "print(Y)\n",
        "\n",
        "#Multiple Variable\n",
        "\n",
        "a = b = c = \"MONDANO\"\n",
        "print(a)\n",
        "print(b)\n",
        "print(c)\n",
        "\n",
        "#Multiple variable with multiple values\n",
        "\n",
        "e, f, g = 1,2,3\n",
        "print(e)\n",
        "print(f)\n",
        "print(g)"
      ],
      "metadata": {
        "colab": {
          "base_uri": "https://localhost:8080/"
        },
        "id": "6KfnmYlZyVKu",
        "outputId": "51033da2-d0f3-4643-b6d8-23f5cdb68847"
      },
      "execution_count": null,
      "outputs": [
        {
          "output_type": "stream",
          "name": "stdout",
          "text": [
            "1\n",
            "2\n",
            "MONDANO\n",
            "MONDANO\n",
            "MONDANO\n",
            "1\n",
            "2\n",
            "3\n"
          ]
        }
      ]
    },
    {
      "cell_type": "markdown",
      "source": [
        "Single or Double Quote"
      ],
      "metadata": {
        "id": "gLkuCO840qAu"
      }
    },
    {
      "cell_type": "code",
      "source": [
        "v = \"Neil\"\n",
        "u = 'Neil'\n",
        "print(v)\n",
        "print(u)"
      ],
      "metadata": {
        "colab": {
          "base_uri": "https://localhost:8080/"
        },
        "id": "30t4k5Vj01eW",
        "outputId": "3435a505-327c-4f43-fa45-35a25bff3163"
      },
      "execution_count": null,
      "outputs": [
        {
          "output_type": "stream",
          "name": "stdout",
          "text": [
            "Neil\n",
            "Neil\n"
          ]
        }
      ]
    },
    {
      "cell_type": "markdown",
      "source": [
        "Casting"
      ],
      "metadata": {
        "id": "s_tX6MID1F92"
      }
    },
    {
      "cell_type": "code",
      "source": [
        "p = int(5)\n",
        "q = float(5)\n",
        "p\n",
        "q"
      ],
      "metadata": {
        "colab": {
          "base_uri": "https://localhost:8080/"
        },
        "id": "ufOJEO6j1Hw9",
        "outputId": "b1ddca1e-7b41-45fa-b6ad-e758f576d7e2"
      },
      "execution_count": null,
      "outputs": [
        {
          "output_type": "execute_result",
          "data": {
            "text/plain": [
              "5.0"
            ]
          },
          "metadata": {},
          "execution_count": 34
        }
      ]
    },
    {
      "cell_type": "markdown",
      "source": [
        "Type() Function"
      ],
      "metadata": {
        "id": "GJA66gtx1mwW"
      }
    },
    {
      "cell_type": "code",
      "source": [
        "f = 'Neil'\n",
        "g = 5.0\n",
        "h = 5\n",
        "print(type(f))\n",
        "print(type(g))\n",
        "print(type(h))"
      ],
      "metadata": {
        "colab": {
          "base_uri": "https://localhost:8080/"
        },
        "id": "Y-ZI4sGQ11d1",
        "outputId": "a34166b2-e1c4-4ed8-f766-0d9d5db8bfdf"
      },
      "execution_count": null,
      "outputs": [
        {
          "output_type": "stream",
          "name": "stdout",
          "text": [
            "<class 'str'>\n",
            "<class 'float'>\n",
            "<class 'int'>\n"
          ]
        }
      ]
    },
    {
      "cell_type": "markdown",
      "source": [
        "Contamination using + symbol"
      ],
      "metadata": {
        "id": "SJiRUkpz2_GN"
      }
    },
    {
      "cell_type": "code",
      "source": [
        "X = \"enjoying\"\n",
        "print(\"Phython programming is\" + \" \" + X)\n",
        "\n",
        "Y = \"Pogi\"\n",
        "print(Y + \" \" +\"Ako\")\n",
        "\n",
        "print(Y + \" \" + X)"
      ],
      "metadata": {
        "colab": {
          "base_uri": "https://localhost:8080/"
        },
        "id": "yQR24wIY3HYl",
        "outputId": "50e3728f-03fb-404d-e78b-571d02cc3391"
      },
      "execution_count": null,
      "outputs": [
        {
          "output_type": "stream",
          "name": "stdout",
          "text": [
            "Phython programming is enjoying\n",
            "Pogi Ako\n",
            "Pogi enjoying\n"
          ]
        }
      ]
    }
  ]
}